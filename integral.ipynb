{
 "cells": [
  {
   "cell_type": "code",
   "execution_count": 10,
   "metadata": {},
   "outputs": [],
   "source": [
    "import numpy as np\n",
    "import matplotlib.pyplot as plt\n",
    "from tabulate import tabulate"
   ]
  },
  {
   "cell_type": "code",
   "execution_count": 11,
   "metadata": {},
   "outputs": [],
   "source": [
    "# Функция\n",
    "def func(x):\n",
    "    return np.e**(x**2)"
   ]
  },
  {
   "cell_type": "code",
   "execution_count": null,
   "metadata": {},
   "outputs": [],
   "source": [
    "def integr(x):\n",
    "    return "
   ]
  },
  {
   "cell_type": "code",
   "execution_count": 12,
   "metadata": {},
   "outputs": [],
   "source": [
    "# Левые прямоугольники\n",
    "def left(a, b, n):\n",
    "    sum = 0\n",
    "    h = (b-a)/n\n",
    "    for i in range(n):\n",
    "        sum += func(a+h*i)*h\n",
    "    return sum"
   ]
  },
  {
   "cell_type": "code",
   "execution_count": 13,
   "metadata": {},
   "outputs": [],
   "source": [
    "# Правые прямоугольники\n",
    "def right(a, b, n):\n",
    "    sum = 0\n",
    "    h = (b-a)/n\n",
    "    for i in range(n):\n",
    "        sum += func(a+h+h*i)*h\n",
    "    return sum"
   ]
  },
  {
   "cell_type": "code",
   "execution_count": 14,
   "metadata": {},
   "outputs": [],
   "source": [
    "# Средние прямоугольники\n",
    "def symmetrical(a, b, n):\n",
    "    sum = 0\n",
    "    h = (b-a)/n\n",
    "    for i in range(n):\n",
    "        sum += func(a+h/2+h*i)*h\n",
    "    return sum"
   ]
  },
  {
   "cell_type": "code",
   "execution_count": 15,
   "metadata": {},
   "outputs": [],
   "source": [
    "# Метод трапеций\n",
    "def trap(a, b, n):\n",
    "    sum = 0\n",
    "    h = (b-a)/n\n",
    "    for i in range(n):\n",
    "        sum += (h/2)*(func(a+h*(i-1))+func(a+h*i))\n",
    "    return sum"
   ]
  },
  {
   "cell_type": "code",
   "execution_count": 16,
   "metadata": {},
   "outputs": [],
   "source": [
    "# Метод парабол (Симпсона)\n",
    "def parab(a, b, n):\n",
    "    sum = 0\n",
    "    h = (b-a)/n\n",
    "    common = h/3\n",
    "    sum += func(a)\n",
    "    sum += func(b)\n",
    "    for i in range(1, n-1):\n",
    "        if i%2:\n",
    "            sum += 4*(func(a+h*i))\n",
    "        else:\n",
    "            sum += 2*(func(a+h*i))     \n",
    "    return sum*common"
   ]
  },
  {
   "cell_type": "code",
   "execution_count": 17,
   "metadata": {},
   "outputs": [],
   "source": [
    "def calc(n, a, b):\n",
    "    print(f\"По методу левых прямоугольников: {left(a, b, n)}\")\n",
    "    print(f\"По методу правых прямоугольников: {right(a, b, n)}\")\n",
    "    print(f\"По методу средних прямоугольников: {symmetrical(a, b, n)}\")\n",
    "    print(f\"По методу трапеций: {trap(a, b, n)}\")\n",
    "    print(f\"По методу Симпсона: {parab(a, b, n)}\")"
   ]
  },
  {
   "cell_type": "code",
   "execution_count": 18,
   "metadata": {},
   "outputs": [],
   "source": [
    "def main():\n",
    "    n = int(input(\"Введите количество отрезков: \"))\n",
    "\n",
    "    A = 0\n",
    "    B = 1\n",
    "\n",
    "    xs = np.linspace(A, B, n)\n",
    "    ys = [func(x) for x in xs]\n",
    "\n",
    "    plt.plot(xs, ys)\n",
    "    plt.grid(1, 'both')\n",
    "    plt.show()\n",
    "\n",
    "    calc(n, A, B)\n",
    "    "
   ]
  },
  {
   "cell_type": "code",
   "execution_count": 19,
   "metadata": {},
   "outputs": [
    {
     "data": {
      "image/png": "[encoded data removed]",
      "text/plain": [
       "<Figure size 640x480 with 1 Axes>"
      ]
     },
     "metadata": {},
     "output_type": "display_data"
    },
    {
     "name": "stdout",
     "output_type": "stream",
     "text": [
      "По методу левых прямоугольников: 1.4541056407069768\n",
      "По методу правых прямоугольников: 1.4712884589915673\n",
      "По методу средних прямоугольников: 1.4626290942192774\n",
      "По методу трапеций: 1.4457825272275964\n",
      "По методу Симпсона: 1.4271221129152487\n"
     ]
    }
   ],
   "source": [
    "main()"
   ]
  }
 ],
 "metadata": {
  "kernelspec": {
   "display_name": "Python 3",
   "language": "python",
   "name": "python3"
  },
  "language_info": {
   "codemirror_mode": {
    "name": "ipython",
    "version": 3
   },
   "file_extension": ".py",
   "mimetype": "text/x-python",
   "name": "python",
   "nbconvert_exporter": "python",
   "pygments_lexer": "ipython3",
   "version": "3.13.1"
  }
 },
 "nbformat": 4,
 "nbformat_minor": 2
}
